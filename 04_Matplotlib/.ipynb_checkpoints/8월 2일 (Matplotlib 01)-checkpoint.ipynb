{
 "cells": [
  {
   "cell_type": "markdown",
   "metadata": {},
   "source": [
    "# Matplotlib\n",
    "\n",
    "## 1. Matplotlib 개요\n",
    "\n",
    "### 1.1 개요\n",
    "- 파이썬에서 자료를 시각화(Visualization)해주는 패키지\n",
    "- Pandas 시리즈와 데이터프레임의 plot 메소드 활용\n",
    "\n",
    "### 1.2 그릴 수 있는 Chart / Plot\n",
    "- 라인 플롯(line plot)\n",
    "- 산점도(scatter plot)\n",
    "- 막대 그래프(bar chart), 히스토그램(histogram)\n",
    "- 박스 플롯(box plot)\n",
    "- 파이 차트(pie chart)\n",
    "- 컨투어 플롯(contour plot), 서피스 플롯(surface plot)\n",
    "\n",
    "### 1.3 참고 사이트\n",
    "- 갤러리(http://matplotlib.org/gallery.html)"
   ]
  },
  {
   "cell_type": "markdown",
   "metadata": {},
   "source": [
    "## 2. 한글설정"
   ]
  },
  {
   "cell_type": "code",
   "execution_count": 1,
   "metadata": {},
   "outputs": [],
   "source": [
    "import matplotlib as mpl\n",
    "import matplotlib.pyplot as plt\n",
    "import matplotlib.font_manager as fm\n",
    "import numpy as np\n",
    "import pandas as pd"
   ]
  },
  {
   "cell_type": "code",
   "execution_count": null,
   "metadata": {},
   "outputs": [],
   "source": [
    "mpl.rcParams['axes.unicode_minus'] = False # minus 표시\n",
    "[(f.name, f.fname) for f in fm.fontManager.ttflist if 'Nanum' in f.name]\n",
    "plt.rcParams[\"font.family\"] = 'NanumBarunGothic'\n",
    "plt.rcParams[\"font.size\"] = 10"
   ]
  },
  {
   "cell_type": "markdown",
   "metadata": {},
   "source": [
    "## 3. Line Plot\n",
    "- 데이터가 시간, 순서 등에 따라 어떻게 변화하는지 보여주기 위해 사용\n",
    "- Series 타입에서 value가 y축, index가 x축"
   ]
  },
  {
   "cell_type": "code",
   "execution_count": null,
   "metadata": {},
   "outputs": [],
   "source": [
    "x = [0, 1, 2, 3]\n",
    "y = [0, 1, 4, 9]\n",
    "plt.plot(y, x)\n",
    "plt.show()"
   ]
  },
  {
   "cell_type": "code",
   "execution_count": null,
   "metadata": {},
   "outputs": [],
   "source": [
    "s = pd.Series(np.random.randn(10).cumsum(), index=np.arange(10))\n",
    "plt.plot(s) # s.plot()"
   ]
  },
  {
   "cell_type": "code",
   "execution_count": null,
   "metadata": {},
   "outputs": [],
   "source": [
    "df = pd.DataFrame(np.random.randn(10, 4).cumsum(axis=0),\n",
    "columns=(['A','B','C','D']), index=(np.arange(0,100,10)))\n",
    "plt.plot(s, color='g', marker='o', linestyle='-')\n",
    "plt.plot(s, 'bs--')"
   ]
  },
  {
   "cell_type": "markdown",
   "metadata": {},
   "source": [
    "- color: blue, green, red, cyan, magenta, yellow, black(k), white\n",
    "- marker: circle(o), 삼각형(^), 역삼각형(v), 사각형(s), 별(*), 플러스(+)\n",
    "- linestyle: 직선(-), dashed(--), dash-dot(-.), dotted(:)"
   ]
  },
  {
   "cell_type": "markdown",
   "metadata": {},
   "source": [
    "## 4. 산점도(Scatter Plot)\n",
    "- Anscombe's quartet: 기술 통계치가 거의 같은 4가지 데이터 셋\n",
    "- x와 y의 관계를 눈으로 확인하고자 할 때"
   ]
  },
  {
   "cell_type": "code",
   "execution_count": null,
   "metadata": {},
   "outputs": [],
   "source": [
    "x = np.random.randn(100)\n",
    "y = np.random.randn(100)\n",
    "plt.scatter(x, y)\n",
    "plt.show()"
   ]
  },
  {
   "cell_type": "code",
   "execution_count": null,
   "metadata": {},
   "outputs": [],
   "source": [
    "x = np.random.rand(100)\n",
    "y = np.random.rand(100)\n",
    "colors = np.random.rand(100)\n",
    "area = np.pi * (15 * np.random.rand(100))**2\n",
    "plt.scatter(x, y, label='Samples', s=area, c=colors, alpha=0.5)"
   ]
  },
  {
   "cell_type": "markdown",
   "metadata": {},
   "source": [
    "- s: 도형의 크기(size)\n",
    "- c: 도형의 색상(color)\n",
    "- alpha: 투명도 (0-완전 투명, 1-완전 불투명)"
   ]
  },
  {
   "cell_type": "code",
   "execution_count": null,
   "metadata": {},
   "outputs": [],
   "source": [
    "x1 = np.random.normal(1, 1, size=(100, 1))\n",
    "x2 = np.random.normal(-2, 4, size=(100, 1))\n",
    "plt.scatter(x1, x2, color='r', marker='s')"
   ]
  },
  {
   "cell_type": "markdown",
   "metadata": {},
   "source": [
    "## 5. 막대 그래프(Bar chart), 히스토그램(histogram)\n",
    "- 특정 그룹의 데이터의 추세와 정량적인 분포 "
   ]
  },
  {
   "cell_type": "code",
   "execution_count": null,
   "metadata": {},
   "outputs": [],
   "source": [
    "s2 = pd.Series(np.random.rand(10), index=list('abcdefghij'))\n",
    "plt.plot(s2, kind='bar‘) # s2.plot(kind='bar')\n",
    "plt.show()"
   ]
  },
  {
   "cell_type": "code",
   "execution_count": null,
   "metadata": {},
   "outputs": [],
   "source": [
    "df2 = pd.DataFrame(np.random.rand(6, 4),\n",
    "index = ['one', 'two', 'three', 'four', 'five', 'six'],\n",
    "columns = pd.Index(['A','B','C','D'], name='Genus'))\n",
    "df2.plot(kind='barh')"
   ]
  },
  {
   "cell_type": "code",
   "execution_count": null,
   "metadata": {},
   "outputs": [],
   "source": [
    "df2.plot(kind='barh', stacked=True)"
   ]
  },
  {
   "cell_type": "code",
   "execution_count": null,
   "metadata": {},
   "outputs": [],
   "source": [
    "s3 = pd.Series(np.random.randn(200))\n",
    "plt.hist(s3) # s3.hist()"
   ]
  },
  {
   "cell_type": "code",
   "execution_count": null,
   "metadata": {},
   "outputs": [],
   "source": [
    "plt.hist(s3, bins=50) # default는 10"
   ]
  },
  {
   "cell_type": "code",
   "execution_count": null,
   "metadata": {},
   "outputs": [],
   "source": [
    "plt.hist(s3, bins=100, normed=True)"
   ]
  },
  {
   "cell_type": "markdown",
   "metadata": {},
   "source": [
    "## 6. 상자그림(Box plot)\n",
    "- 기초 통계량 확인하고자 할 때 "
   ]
  },
  {
   "cell_type": "code",
   "execution_count": null,
   "metadata": {},
   "outputs": [],
   "source": [
    "s4 = np.random.randn(1000)\n",
    "s5 = np.random.normal(loc=10, scale=2, size=1000)\n",
    "plt.boxplot([s4, s5])"
   ]
  },
  {
   "cell_type": "markdown",
   "metadata": {},
   "source": [
    "## 7. 제목, 레이블, 범례 작성"
   ]
  },
  {
   "cell_type": "code",
   "execution_count": null,
   "metadata": {},
   "outputs": [],
   "source": [
    "import math\n",
    "xs, ysin, ycos = [], [], []\n",
    "for x in range(360):\n",
    "xs.append(x)\n",
    "ysin.append(math.sin(math.pi * x / 180))\n",
    "ycos.append(math.cos(math.pi * x / 180))\n",
    "xs = np.arange(0, 2*np.pi, 0.01)\n",
    "ysin = np.sin(xs); ycos = np.cos(xs)\n",
    "plt.plot(xs, ysin, label='Sine curve')\n",
    "plt.plot(xs, ycos, label='Cosine curve')\n",
    "plt.xlim([-20, 380]); plt.ylim([-1.2, 1.2])\n",
    "plt.xlabel('X-Value'); plt.ylabel('Y-Value')\n",
    "plt.title('삼각함수')\n",
    "plt.legend(loc='center') # label을 범례로 표시\n",
    "plt.axhline(y=0, color='k', linewidth=0.5) # 수평선(x축)\n",
    "plt.axvline(x=0, color='k', linewidth=0.5) # 수직선(y축)\n",
    "plt.axvline(x=360, color='k', linewidth=0.5)"
   ]
  },
  {
   "cell_type": "markdown",
   "metadata": {},
   "source": [
    "## 8. 여러 개의 그래프를 그리는 방법(Subplot)"
   ]
  },
  {
   "cell_type": "code",
   "execution_count": null,
   "metadata": {},
   "outputs": [],
   "source": [
    "def f(t):\n",
    " return np.exp(-t) * np.cos(2*np.pi*t)\n",
    "def g(t):\n",
    " return np.sin(np.pi*t)\n",
    "t1 = np.arange(0.0, 5.0, 0.01)\n",
    "t2 = np.arange(0.0, 5.0, 0.01)\n",
    "plt.subplot(221) # 2 x 2, 그래프중 첫번째\n",
    "plt.plot(t1, f(t1))\n",
    "plt.subplot(2, 2, 2)\n",
    "plt.plot(t2, g(t2))\n",
    "plt.subplot(223)\n",
    "plt.plot(t1, f(t1), 'r-')\n",
    "plt.subplot(224)\n",
    "plt.plot(t2, g(t2), 'r-')\n",
    "plt.show()"
   ]
  },
  {
   "cell_type": "code",
   "execution_count": null,
   "metadata": {},
   "outputs": [],
   "source": [
    "import seaborn as sns\n",
    "ans = sns.load_dataset('anscombe')\n",
    "ans.shape(); ans.head(); ans.tail()\n",
    "ans.groupby('dataset').describe()\n",
    "ds1 = ans[ans['dataset'] == 'I']; ds2 = ans[ans['dataset'] == 'II']\n",
    "ds3 = ans[ans['dataset'] == 'III']; ds4 = ans[ans['dataset'] == 'IV']\n",
    "fig = plt.figure()\n",
    "axes1 = fig.add_subplot(2, 2, 1); axes2 = fig.add_subplot(2, 2, 2)\n",
    "axes3 = fig.add_subplot(2, 2, 3); axes4 = fig.add_subplot(2, 2, 4)\n",
    "axes1.plot(ds1['x'], ds1['y'], 'o'); axes2.plot(ds2['x'], ds2['y'], 'o')\n",
    "axes3.plot(ds3['x'], ds3['y'], 'o'); axes4.plot(ds4['x'], ds4['y'], 'o')\n",
    "axes1.set_title('Dataset 1'); axes2.set_title('Dataset 2')\n",
    "axes3.set_title('Dataset 3'); axes4.set_title('Dataset 4')\n",
    "fig.suptitle(\"Anscombe's Quartet\")\n",
    "fig.tight_layout()"
   ]
  },
  {
   "cell_type": "markdown",
   "metadata": {},
   "source": [
    "## 9. 다른 시각화 패키지\n",
    "\n",
    "- Seaborn\n",
    "  - 세련된 그래프\n",
    "  - https://seaborn.pydata.org/examples/index.html\n",
    "- Bokeh\n",
    "  - 웹 기반 인터랙티브 플롯\n",
    "  - https://bokeh.pydata.org/en/latest/\n",
    "- Folium\n",
    "  - 지도데이터에 ‘Leaflet.js’를 이용하여 위치정보를 시각화\n",
    "  - 웹에서 사용 가능"
   ]
  },
  {
   "cell_type": "code",
   "execution_count": null,
   "metadata": {},
   "outputs": [],
   "source": []
  }
 ],
 "metadata": {
  "kernelspec": {
   "display_name": "Python 3",
   "language": "python",
   "name": "python3"
  },
  "language_info": {
   "codemirror_mode": {
    "name": "ipython",
    "version": 3
   },
   "file_extension": ".py",
   "mimetype": "text/x-python",
   "name": "python",
   "nbconvert_exporter": "python",
   "pygments_lexer": "ipython3",
   "version": "3.7.3"
  }
 },
 "nbformat": 4,
 "nbformat_minor": 2
}
