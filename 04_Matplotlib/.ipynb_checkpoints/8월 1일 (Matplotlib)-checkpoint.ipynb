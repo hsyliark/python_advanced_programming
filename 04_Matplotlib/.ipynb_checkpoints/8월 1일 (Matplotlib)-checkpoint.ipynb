{
 "cells": [
  {
   "cell_type": "markdown",
   "metadata": {},
   "source": [
    "# Matplotlib\n",
    "\n",
    "## 1. Matplotlib 개요\n",
    "\n",
    "### 1.1 개요\n",
    "- 파이썬에서 자료를 시각화(Visualization)해주는 패키지\n",
    "- Pandas 시리즈와 데이터프레임의 plot 메소드 활용\n",
    "\n",
    "### 1.2 그릴 수 있는 Chart / Plot\n",
    "- 라인 플롯(line plot)\n",
    "- 산점도(scatter plot)\n",
    "- 막대 그래프(bar chart), 히스토그램(histogram)\n",
    "- 박스 플롯(box plot)\n",
    "- 파이 차트(pie chart)\n",
    "- 컨투어 플롯(contour plot), 서피스 플롯(surface plot)\n",
    "\n",
    "### 1.3 참고 사이트\n",
    "- 갤러리(http://matplotlib.org/gallery.html)"
   ]
  },
  {
   "cell_type": "markdown",
   "metadata": {},
   "source": [
    "## 2. 한글설정"
   ]
  },
  {
   "cell_type": "code",
   "execution_count": 1,
   "metadata": {},
   "outputs": [],
   "source": [
    "import matplotlib as mpl\n",
    "import matplotlib.pyplot as plt\n",
    "import matplotlib.font_manager as fm\n",
    "import numpy as np\n",
    "import pandas as pd"
   ]
  },
  {
   "cell_type": "code",
   "execution_count": null,
   "metadata": {},
   "outputs": [],
   "source": [
    "mpl.rcParams['axes.unicode_minus'] = False # minus 표시\n",
    "plt.rcParams[\"font.family\"] = 'NanumBarunGothic'\n",
    "plt.rcParams[\"font.size\"] = 10"
   ]
  },
  {
   "cell_type": "markdown",
   "metadata": {},
   "source": [
    "## 3. Line Plot\n",
    "- 데이터가 시갂, 순서 등에 따라 어떻게 변화하는지 보여주기 위해 사용\n",
    "- Series 타입에서 value가 y축, index가 x축"
   ]
  },
  {
   "cell_type": "code",
   "execution_count": null,
   "metadata": {},
   "outputs": [],
   "source": [
    "x = [0, 1, 2, 3]\n",
    "y = [0, 1, 4, 9]\n",
    "plt.plot(y, x)\n",
    "plt.show()"
   ]
  },
  {
   "cell_type": "code",
   "execution_count": null,
   "metadata": {},
   "outputs": [],
   "source": [
    "s = pd.Series(np.random.randn(10).cumsum(), index=np.arange(10))\n",
    "plt.plot(s) # s.plot()"
   ]
  },
  {
   "cell_type": "code",
   "execution_count": null,
   "metadata": {},
   "outputs": [],
   "source": [
    "df = pd.DataFrame(np.random.randn(10, 4).cumsum(axis=0),\n",
    "columns=(['A','B','C','D']), index=(np.arange(0,100,10)))\n",
    "plt.plot(s, color='g', marker='o', linestyle='-')\n",
    "plt.plot(s, 'bs--')"
   ]
  },
  {
   "cell_type": "markdown",
   "metadata": {},
   "source": [
    "- color: blue, green, red, cyan, magenta, yellow, black(k), white\n",
    "- marker: circle(o), 삼각형(^), 역삼각형(v), 사각형(s), 별(*), 플러스(+)\n",
    "- linestyle: 직선(-), dashed(--), dash-dot(-.), dotted(:)"
   ]
  },
  {
   "cell_type": "markdown",
   "metadata": {},
   "source": [
    "## 4. 산점도(Scatter Plot)\n",
    "- Anscombe's quartet: 기술 통계치가 거의 같은 4가지 데이터 셋\n",
    "- x와 y의 관계를 눈으로 확인하고자 할 때"
   ]
  },
  {
   "cell_type": "code",
   "execution_count": null,
   "metadata": {},
   "outputs": [],
   "source": [
    "x = np.random.randn(100)\n",
    "y = np.random.randn(100)\n",
    "plt.scatter(x, y)\n",
    "plt.show()"
   ]
  },
  {
   "cell_type": "code",
   "execution_count": null,
   "metadata": {},
   "outputs": [],
   "source": [
    "x = np.random.rand(100)\n",
    "y = np.random.rand(100)\n",
    "colors = np.random.rand(100)\n",
    "area = np.pi * (15 * np.random.rand(100))**2\n",
    "plt.scatter(x, y, label='Samples', s=area, c=colors, alpha=0.5)"
   ]
  },
  {
   "cell_type": "markdown",
   "metadata": {},
   "source": [
    "- s: 도형의 크기(size)\n",
    "- c: 도형의 색상(color)\n",
    "- alpha: 투명도 (0-완전 투명, 1-완전 불투명)"
   ]
  },
  {
   "cell_type": "code",
   "execution_count": null,
   "metadata": {},
   "outputs": [],
   "source": [
    "x1 = np.random.normal(1, 1, size=(100, 1))\n",
    "x2 = np.random.normal(-2, 4, size=(100, 1))\n",
    "plt.scatter(x1, x2, color='r', marker='s')"
   ]
  }
 ],
 "metadata": {
  "kernelspec": {
   "display_name": "Python 3",
   "language": "python",
   "name": "python3"
  },
  "language_info": {
   "codemirror_mode": {
    "name": "ipython",
    "version": 3
   },
   "file_extension": ".py",
   "mimetype": "text/x-python",
   "name": "python",
   "nbconvert_exporter": "python",
   "pygments_lexer": "ipython3",
   "version": "3.7.3"
  }
 },
 "nbformat": 4,
 "nbformat_minor": 2
}
