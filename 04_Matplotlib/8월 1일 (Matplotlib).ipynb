{
 "cells": [
  {
   "cell_type": "markdown",
   "metadata": {},
   "source": [
    "# Matplotlib\n",
    "\n",
    "## 1. Matplotlib 개요\n",
    "\n",
    "### 1.1 개요\n",
    "- 파이썬에서 자료를 시각화(Visualization)해주는 패키지\n",
    "- Pandas 시리즈와 데이터프레임의 plot 메소드 활용\n",
    "\n",
    "### 1.2 그릴 수 있는 Chart / Plot\n",
    "- 라인 플롯(line plot)\n",
    "- 산점도(scatter plot)\n",
    "- 막대 그래프(bar chart), 히스토그램(histogram)\n",
    "- 박스 플롯(box plot)\n",
    "- 파이 차트(pie chart)\n",
    "- 컨투어 플롯(contour plot), 서피스 플롯(surface plot)\n",
    "\n",
    "### 1.3 참고 사이트\n",
    "- 갤러리(http://matplotlib.org/gallery.html)"
   ]
  },
  {
   "cell_type": "markdown",
   "metadata": {},
   "source": [
    "## 2. 한글설정"
   ]
  },
  {
   "cell_type": "code",
   "execution_count": 1,
   "metadata": {},
   "outputs": [],
   "source": [
    "import matplotlib as mpl\n",
    "import matplotlib.pyplot as plt\n",
    "import matplotlib.font_manager as fm\n",
    "import numpy as np\n",
    "import pandas as pd"
   ]
  },
  {
   "cell_type": "code",
   "execution_count": null,
   "metadata": {},
   "outputs": [],
   "source": []
  }
 ],
 "metadata": {
  "kernelspec": {
   "display_name": "Python 3",
   "language": "python",
   "name": "python3"
  },
  "language_info": {
   "codemirror_mode": {
    "name": "ipython",
    "version": 3
   },
   "file_extension": ".py",
   "mimetype": "text/x-python",
   "name": "python",
   "nbconvert_exporter": "python",
   "pygments_lexer": "ipython3",
   "version": "3.7.3"
  }
 },
 "nbformat": 4,
 "nbformat_minor": 2
}
