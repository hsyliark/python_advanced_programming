{
 "cells": [
  {
   "cell_type": "markdown",
   "metadata": {},
   "source": [
    "# 전국 커피빈 매장 현황 Selenium\n",
    "## 황 성 윤"
   ]
  },
  {
   "cell_type": "markdown",
   "metadata": {},
   "source": [
    "### 커피빈(Coffee Bean)\n",
    "\n",
    "- 참조사이트 1 : http://blog.naver.com/PostView.nhn?blogId=pjt3591oo&logNo=221189236488&parentCategoryNo=&categoryNo=116&viewDate=&isShowPopularPosts=true&from=search\n",
    "- 참조사이트 2 : https://brunch.co.kr/@jk-lab/18\n",
    "- 참조사이트 3 : http://allselenium.info/mouse-over-actions-using-python-selenium-webdriver/\n",
    "- 필요한 정보를 crawling 하는 것이 생각보다 어려워서 일단 위의 사이트를 참조해서 crawling을 실시하였음.\n",
    "- 관리자 권한 cmd에 다음 명령어 입력 : pip install selenium"
   ]
  },
  {
   "cell_type": "code",
   "execution_count": 92,
   "metadata": {},
   "outputs": [
    {
     "data": {
      "text/plain": [
       "[]"
      ]
     },
     "execution_count": 92,
     "metadata": {},
     "output_type": "execute_result"
    }
   ],
   "source": [
    "import bs4\n",
    "import requests as rq\n",
    "\n",
    "cfbean = rq.get('https://www.coffeebeankorea.com/store/store.asp')\n",
    "st_cb = bs4.BeautifulSoup(cfbean.text, 'lxml')\n",
    "st_cb.find_all('li', class_='storeListUL')"
   ]
  },
  {
   "cell_type": "code",
   "execution_count": 71,
   "metadata": {},
   "outputs": [],
   "source": [
    "from selenium import webdriver\n",
    "from selenium.webdriver.common.action_chains import ActionChains\n",
    "import time\n",
    "\n",
    "# 설치된 크롬 버전에 맞는 ChromeDriver 설치 후 진행\n",
    "# https://sites.google.com/a/chromium.org/chromedriver/home\n",
    "chromedriver_dir = r'C:\\Users\\709-000\\ChromeWebDriver\\chromedriver.exe'\n",
    "driver = webdriver.Chrome(chromedriver_dir)\n",
    "time.sleep(3)"
   ]
  },
  {
   "cell_type": "code",
   "execution_count": 72,
   "metadata": {},
   "outputs": [],
   "source": [
    "# 홈페이지 접속\n",
    "driver.get('https://www.coffeebeankorea.com/store/store.asp')\n",
    "# 마우스포인터 제어\n",
    "action = ActionChains(driver)\n",
    "time.sleep(3)"
   ]
  },
  {
   "cell_type": "code",
   "execution_count": 73,
   "metadata": {},
   "outputs": [],
   "source": [
    "# 지역검색 버튼 클릭\n",
    "local = driver.find_element_by_xpath('//*[@id=\"contents2\"]/div[1]/div[2]/div[3]/h3[2]/a')\n",
    "action.move_to_element(local).perform()\n",
    "local.click()\n",
    "time.sleep(3)"
   ]
  },
  {
   "cell_type": "code",
   "execution_count": 86,
   "metadata": {},
   "outputs": [],
   "source": [
    "# 시/도 버튼 클릭\n",
    "sido = driver.find_element_by_xpath('//*[@id=\"localTitle\"]')\n",
    "action.move_to_element(sido).perform()\n",
    "sido.click()\n",
    "time.sleep(3)"
   ]
  },
  {
   "cell_type": "code",
   "execution_count": 87,
   "metadata": {},
   "outputs": [],
   "source": [
    "# 서울 클릭\n",
    "li = driver.find_element_by_xpath('//*[@id=\"storeLocal\"]/li[1]/a')\n",
    "li.click()\n",
    "time.sleep(3)"
   ]
  },
  {
   "cell_type": "code",
   "execution_count": 88,
   "metadata": {},
   "outputs": [
    {
     "name": "stdout",
     "output_type": "stream",
     "text": [
      " 서울특별시 서초구 반포대로70 \n",
      " 서울 서초구 서초중앙로 156, 1층 \n",
      " 서울시 중구 장충동2가 188-11, 188-4, 188-5 \n",
      "  서울특별시 송파구 올림픽로35길 123 1층 \n",
      " 서울시 종로구 우정국로 26 센트로폴리스 1층 Retail 1-5,6 \n",
      " 서울시 마포구 와우산로10길 3, 엘케이빌딩 1~3층 \n",
      " 서울특별시 종로구 종로3길 34 \n",
      " 서울시 동대문구 경희대로 10 (회기동) \n",
      " 서울특별시 송파구 법원로6길 11 환인빌딩 1층  \n",
      " 서울특별시 종로구 새문안로 91 고려빌딩 1,2층  \n",
      " 서울특별시 강남구 선릉로 433 세방빌딩 1층 \n",
      " 서울시 용산구 한강대로95 \n",
      " 서울시 영등포구 국제금융로10 IFC Mall L2(2층) \n",
      " 서울 송파구 방이동 206-11 \n",
      " 서울특별시 강서구 마곡동로 55 마커스빌딩 1층 \n",
      " 서울특별시 강서구 강서로 457(마곡동) \n",
      " 서울시 은평구 은평로 121(응암동), 메디컬빌딩 \n",
      " 서울특별시 마포구 양화로 196(동교동) \n",
      " 서울특별시 강남구  강남대로112길 20 1층, 2층 \n",
      " 서울특별시 강남구 도곡로 408 디마크빌딩 1층 \n",
      " 서울특별시 성북구 삼선교로 12 1층 \n",
      " 서울특별시 종로구 대학로 128 2층 \n",
      " 서울시 송파구 위례광장로 230 위례2차 아이파크 B동 1층 \n",
      " 서울시 서초구 강남대로 475 2층 \n",
      " 서울특별시 마포구 월드컵로 3길 14, 푸르지오 2차 1층 \n",
      " 서울특별시 송파구 충민로 66 가든파이브 라이프동 테크노관 1층 \n",
      " 서울특별시 영등포구 국제금융로8길31 여의도SK증권빌딩점 1층 \n",
      " 서울특별시 광진구 구의강변로 106 삼성쉐르빌 1층 \n",
      " 서울특별시 강북구 한천로 139길 25, 1층 일부 및 2층 (수유동 191-70) \n",
      " 서울특별시 강남구 도곡동 543-1, 지오빌딩 B1층 \n",
      " 서울시 송파구 방이동 44-2, 장은빌딩 1층 \n",
      " 서울시 종로구 종로 70 2층 \n",
      " 서울시 마포구 독막로 13, 2층 \n",
      " 서울시 노원구 노해로 490, 길빌딩 2층 \n",
      " 서울특별시 강동구 동남로 885 양지빌딩 1층 \n",
      " 서울특별시 중랑구 망우로 291 1층 \n",
      " 서울 송파구 문정동 643-1번지 엠스테이트 B동 지하1층 \n",
      " 서울특별시 송파구 송파대로 111 송파파크하비오 205동 1층 110-113 \n",
      " 서울특별시 서초구 서초대로 397 부띠크모나코 1층 \n",
      " 서울특별시 강남구 테헤란로 111 2층 \n",
      " 서울특별시 송파구 송파대로 111, 송파 파크하비오 하비오길 극장로 203동 지하1층 \n",
      " 서울시 마포구 양화로18안길 7 2층 \n",
      " 서울시 강동구 올림픽로 659 쌍용플래티넘리버 1층 \n",
      " 서울시 서초구 신반포로47길 5 건물전체 1~3층 \n",
      " 서울시 강남구 역삼동 718-20  태광타워 1층 \n",
      " 서울시 영등포구 문래동6가 5번지 1층 \n",
      " 서울시 서초구 동산로 1  1층 \n",
      " 서울시 강남구 삼성로 352 창진빌딩 1층 및 2층 \n",
      " 서울시 서초구 서초대로 250 스타갤러리 브릿지 1층 101호 \n",
      " 서울시 동대문구 장안동 372-1, 1층 일부 및 2층 전체 \n",
      " 서울시 서대문구 대신동 50-5 1층,2층(B동) \n",
      " 서울시 마포구 상암동 1610번지 DDMC 지하 1층 \n",
      " 서울시 강서구 화곡6동 1095번지 1층 \n",
      " 서울특별시 강남구 봉은사로108 글라스톤빌딩1층 \n",
      " 서울특별시 강남구 영동대로 225 나무병원1층 (대치동994-5) \n",
      " 서울특별시 구로구 구로중앙로 152 (구로동) AK플라자구로점1층 \n",
      " 서울시 마포구 성암로301 KLID한국지역정보개발원 1층 \n",
      " 서울특별시 강남구 삼성로86길 11 거봉빌딩 1층 \n",
      " 서울시 강남구 영동대로85길 9 (대치동) 서전빌딩1층 \n",
      " 서울특별시 서초구 반포대로4(서초동) 2층, 3층 \n",
      " 서울시 성북구 인촌로24길 25 (안암동5가) 2층,3층 \n",
      " 서울시 강동구 강동대로193 1층 \n",
      " 서울시 중구 명동8길 27(명동2가) \n",
      " 서울시 중구 남대문로10길 6 1,2층  \n",
      " 서울시 양천구 오목로 350 목동썬텍씨티빌딩 1층,2층 \n",
      " 서울시 송파구 석촌호수로 222 제이타워 1층 \n",
      " 서울시 용산구 한강대로23길55 현대아이파크몰용산 서관6층 \n",
      " 서울시 관악구 남부순환로1909 1,2층 \n",
      " 서울시 송파구 올림픽로100 효창타워1층 \n",
      " 서울시 강남구 강남대로350 \n"
     ]
    }
   ],
   "source": [
    "# 정보 가져오기\n",
    "import bs4\n",
    "source = driver.page_source\n",
    "bs = bs4.BeautifulSoup(source, 'lxml')\n",
    "entire = bs.find('ul', id='storeListUL')\n",
    "li_list = entire.find_all('li')\n",
    "for infor in li_list:\n",
    "    print(infor.find('p', class_='address').text)"
   ]
  },
  {
   "cell_type": "code",
   "execution_count": 95,
   "metadata": {},
   "outputs": [],
   "source": [
    "### crawling\n",
    "coffeebean_address = []\n",
    "\n",
    "for i in range(1,14):\n",
    "    \n",
    "    from selenium import webdriver\n",
    "    from selenium.webdriver.common.action_chains import ActionChains\n",
    "    import time\n",
    "    # 설치된 크롬 버전에 맞는 ChromeDriver 설치 후 진행\n",
    "    # https://sites.google.com/a/chromium.org/chromedriver/home\n",
    "    chromedriver_dir = r'C:\\Users\\709-000\\ChromeWebDriver\\chromedriver.exe'\n",
    "    driver = webdriver.Chrome(chromedriver_dir)\n",
    "    time.sleep(3)\n",
    "    driver.maximize_window()\n",
    "    \n",
    "    # 홈페이지 접속\n",
    "    driver.get('https://www.coffeebeankorea.com/store/store.asp')\n",
    "    time.sleep(0.5)\n",
    "    \n",
    "    # 마우스포인터 제어\n",
    "    action = ActionChains(driver)\n",
    "    time.sleep(0.5)\n",
    "    \n",
    "    # 지역검색 버튼 클릭\n",
    "    local = driver.find_element_by_xpath('//*[@id=\"contents2\"]/div[1]/div[2]/div[3]/h3[2]/a')\n",
    "    action.move_to_element(local).perform()\n",
    "    local.click()\n",
    "    time.sleep(0.5)\n",
    "    \n",
    "    # 시/도 버튼 클릭\n",
    "    sido = driver.find_element_by_xpath('//*[@id=\"localTitle\"]')\n",
    "    action.move_to_element(sido).perform()\n",
    "    sido.click()\n",
    "    time.sleep(0.5)\n",
    "    \n",
    "    # 도시 클릭\n",
    "    a = '//*[@id=\"storeLocal\"]/li['\n",
    "    b = ']/a'\n",
    "    li = driver.find_element_by_xpath(a + str(i) + b)\n",
    "    li.click()\n",
    "    time.sleep(0.5)\n",
    "    \n",
    "    # 정보 가져오기\n",
    "    import bs4\n",
    "    source = driver.page_source\n",
    "    bs = bs4.BeautifulSoup(source, 'lxml')\n",
    "    entire = bs.find('ul', id='storeListUL')\n",
    "    li_list = entire.find_all('li')\n",
    "    for infor in li_list:\n",
    "        coffeebean_address.append(infor.find('p', class_='address').text)"
   ]
  },
  {
   "cell_type": "code",
   "execution_count": 97,
   "metadata": {},
   "outputs": [
    {
     "data": {
      "text/plain": [
       "153"
      ]
     },
     "execution_count": 97,
     "metadata": {},
     "output_type": "execute_result"
    }
   ],
   "source": [
    "len(coffeebean_address)"
   ]
  },
  {
   "cell_type": "code",
   "execution_count": 98,
   "metadata": {},
   "outputs": [],
   "source": [
    "import pandas as pd\n",
    "import numpy as np\n",
    "\n",
    "coffeebean = pd.DataFrame({'주소' : coffeebean_address})\n",
    "coffeebean['커피빈입점'] = 1"
   ]
  },
  {
   "cell_type": "code",
   "execution_count": 99,
   "metadata": {},
   "outputs": [],
   "source": [
    "coffeebean.to_csv('data/coffeebean.csv', encoding='EUC-KR', sep=',')"
   ]
  },
  {
   "cell_type": "code",
   "execution_count": null,
   "metadata": {},
   "outputs": [],
   "source": [
    "# 데이터 처리 후 다시 올리기\n",
    "coffeebean = pd.read_csv(\"data/coffeebean.csv\", encoding='EUC-KR', sep=',')\n",
    "coffeebean.info()"
   ]
  }
 ],
 "metadata": {
  "kernelspec": {
   "display_name": "Python 3",
   "language": "python",
   "name": "python3"
  },
  "language_info": {
   "codemirror_mode": {
    "name": "ipython",
    "version": 3
   },
   "file_extension": ".py",
   "mimetype": "text/x-python",
   "name": "python",
   "nbconvert_exporter": "python",
   "pygments_lexer": "ipython3",
   "version": "3.7.3"
  }
 },
 "nbformat": 4,
 "nbformat_minor": 2
}
