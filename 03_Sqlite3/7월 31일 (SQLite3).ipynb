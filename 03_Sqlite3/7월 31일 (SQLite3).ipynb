{
 "cells": [
  {
   "cell_type": "markdown",
   "metadata": {},
   "source": [
    "# SQLite3\n",
    "\n",
    "## 1. SQLite3 개요\n",
    "\n",
    "### 1.1 경량 DBMS\n",
    "- 별도의 서버가 필요 없음\n",
    "- 모바일 기기에서 많이 활용되고 있음\n",
    "- 파이썬3에 기본 내장되어 있음\n",
    "- 파일 또는 메모리에 DB 생성\n",
    "- 참고자료: SQLite로 가볍게 배우는 데이터베이스 (WikiDocs)\n",
    "\n",
    "### 1.2 데이터 타입\n",
    "- 동적 데이터 타입\n",
    "- Null, Integer, Real, Text, Blob 유형이 있음 (Boolean, Date, Time 없음)\n",
    "- 다른 유형 데이터를 삽입해도 컬럼에 맞게 알아서 들어감.\n",
    "- 다른 DB에서 사용하는 데이터유형 이름 그대로 사용해도 무방\n",
    "\n",
    "### 1.3 DBMS 관리 툴\n",
    "- SQLite Expert (http://www.sqliteexpert.com/download.html)\n",
    "- Personal version은 freeware 이므로 사용할 수 있음."
   ]
  },
  {
   "cell_type": "markdown",
   "metadata": {},
   "source": [
    "## 2. 파이썬에서 사용하는 방법"
   ]
  },
  {
   "cell_type": "code",
   "execution_count": null,
   "metadata": {},
   "outputs": [],
   "source": []
  }
 ],
 "metadata": {
  "kernelspec": {
   "display_name": "Python 3",
   "language": "python",
   "name": "python3"
  },
  "language_info": {
   "codemirror_mode": {
    "name": "ipython",
    "version": 3
   },
   "file_extension": ".py",
   "mimetype": "text/x-python",
   "name": "python",
   "nbconvert_exporter": "python",
   "pygments_lexer": "ipython3",
   "version": "3.7.3"
  }
 },
 "nbformat": 4,
 "nbformat_minor": 2
}
