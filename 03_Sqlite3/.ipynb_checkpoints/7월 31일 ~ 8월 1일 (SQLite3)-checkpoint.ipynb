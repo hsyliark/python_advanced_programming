{
 "cells": [
  {
   "cell_type": "markdown",
   "metadata": {},
   "source": [
    "# SQLite3\n",
    "\n",
    "## 1. SQLite3 개요\n",
    "\n",
    "### 1.1 경량 DBMS\n",
    "- 별도의 서버가 필요 없음\n",
    "- 모바일 기기에서 많이 활용되고 있음\n",
    "- 파이썬3에 기본 내장되어 있음\n",
    "- 파일 또는 메모리에 DB 생성\n",
    "- 참고자료: SQLite로 가볍게 배우는 데이터베이스 (WikiDocs)\n",
    "\n",
    "### 1.2 데이터 타입\n",
    "- 동적 데이터 타입\n",
    "- Null, Integer, Real, Text, Blob 유형이 있음 (Boolean, Date, Time 없음)\n",
    "- 다른 유형 데이터를 삽입해도 컬럼에 맞게 알아서 들어감.\n",
    "- 다른 DB에서 사용하는 데이터유형 이름 그대로 사용해도 무방\n",
    "\n",
    "### 1.3 DBMS 관리 툴\n",
    "- SQLite Expert (http://www.sqliteexpert.com/download.html)\n",
    "- Personal version은 freeware 이므로 사용할 수 있음."
   ]
  },
  {
   "cell_type": "markdown",
   "metadata": {},
   "source": [
    "## 2. 파이썬에서 사용하는 방법"
   ]
  },
  {
   "cell_type": "markdown",
   "metadata": {},
   "source": [
    "### 2.1 데이터베이스 접속"
   ]
  },
  {
   "cell_type": "code",
   "execution_count": null,
   "metadata": {},
   "outputs": [],
   "source": [
    "# import sqlite3 \n",
    "# conn = sqlite3.connect(':memory:') # 메모리 DB 접속(일회성)\n",
    "# conn = sqlite3.connect('./test.db') # 파일 DB 접속\n",
    "# . . .\n",
    "# 데이터 쿼리 수행\n",
    "# . . .\n",
    "# conn.commit() # 변경사항 저장\n",
    "# conn.close()"
   ]
  },
  {
   "cell_type": "code",
   "execution_count": 6,
   "metadata": {},
   "outputs": [],
   "source": [
    "import sqlite3\n",
    "conn = sqlite3.connect('./test.db') # 파일 DB 접속"
   ]
  },
  {
   "cell_type": "markdown",
   "metadata": {},
   "source": [
    "### 2.2 with 문 이용"
   ]
  },
  {
   "cell_type": "code",
   "execution_count": null,
   "metadata": {},
   "outputs": [],
   "source": [
    "# import sqlite3\n",
    "# conn = sqlite3.connect('./test.db')\n",
    "# with conn:  # close 이용 안 할 시\n",
    "#     cur = conn.cursor()\n",
    "#     cur.execute(\"SELECT * FROM test_table\")\n",
    "#     rows = cur.fetchall()\n",
    "#     for row in rows:\n",
    "#         print(row)"
   ]
  },
  {
   "cell_type": "markdown",
   "metadata": {},
   "source": [
    "## 3. Data Definition Language(DDL) "
   ]
  },
  {
   "cell_type": "markdown",
   "metadata": {},
   "source": [
    "### 3.1 테이블 생성 "
   ]
  },
  {
   "cell_type": "code",
   "execution_count": 7,
   "metadata": {},
   "outputs": [],
   "source": [
    "cur = conn.cursor()"
   ]
  },
  {
   "cell_type": "code",
   "execution_count": 8,
   "metadata": {},
   "outputs": [
    {
     "data": {
      "text/plain": [
       "<sqlite3.Cursor at 0x581bb20>"
      ]
     },
     "execution_count": 8,
     "metadata": {},
     "output_type": "execute_result"
    }
   ],
   "source": [
    "cur.execute('CREATE TABLE IF NOT EXISTS Eagles \\\n",
    "    (back_no INT NOT NULL, \\\n",
    "     name TEXT, \\\n",
    "     position TEXT, \\\n",
    "     hands TEXT, \\\n",
    "     highschool TEXT, \\\n",
    "     height INT, \\\n",
    "     PRIMARY KEY(back_no));')"
   ]
  },
  {
   "cell_type": "markdown",
   "metadata": {},
   "source": [
    "### 3.2 테이블 변경"
   ]
  },
  {
   "cell_type": "code",
   "execution_count": null,
   "metadata": {},
   "outputs": [],
   "source": [
    "cur.execute('ALTER TABLE Eagles ADD COLUMN birth INTEGER')\n",
    "cur.execute('ALTER TABLE Eagles RENAME TO Eagles.backup')"
   ]
  },
  {
   "cell_type": "markdown",
   "metadata": {},
   "source": [
    "### 3.3 테이블 삭제"
   ]
  },
  {
   "cell_type": "code",
   "execution_count": 4,
   "metadata": {},
   "outputs": [
    {
     "data": {
      "text/plain": [
       "<sqlite3.Cursor at 0x581bc00>"
      ]
     },
     "execution_count": 4,
     "metadata": {},
     "output_type": "execute_result"
    }
   ],
   "source": [
    "cur.execute('DROP TABLE Eagles')"
   ]
  },
  {
   "cell_type": "markdown",
   "metadata": {},
   "source": [
    "## 4. 데이터 조작 언어(Data Manipulation Language, DML)"
   ]
  },
  {
   "cell_type": "markdown",
   "metadata": {},
   "source": [
    "### 4.1 데이터 삽입"
   ]
  },
  {
   "cell_type": "code",
   "execution_count": null,
   "metadata": {},
   "outputs": [],
   "source": [
    "## 기본 스트링 쿼리\n",
    "# cur = conn.cursor()\n",
    "# cur.execute(\"INSERT INTO Eagles VALUES \\\n",
    "#             (1, '하주석', '내야수', '우투좌타', '신일고', 184);\")\n",
    "# cur.execute(\"INSERT INTO Eagles VALUES \\\n",
    "#             (57, '정우람', '투수'), (8, '정근우', '내야수');\")\n",
    "## 파라메터: 튜플 사용\n",
    "# back_no = 50\n",
    "# name = '이성열'\n",
    "# position = '외야수'\n",
    "# cur = conn.cursor()\n",
    "# sql = 'INSERT INTO Eagles VALUES (?, ?, ?);'\n",
    "# cur.execute(sql, (back_no, name, position))\n",
    "## 튜플 리스트 사용\n",
    "# players = ((22, '이태양', '투수'), (13, '최재훈', '포수'))\n",
    "# cur = conn.cursor()\n",
    "# sql = 'INSERT INTO Eagles VALUES (?, ?, ?);'\n",
    "# cur.executemany(sql, players)"
   ]
  },
  {
   "cell_type": "code",
   "execution_count": 9,
   "metadata": {},
   "outputs": [
    {
     "data": {
      "text/plain": [
       "<sqlite3.Cursor at 0x581b960>"
      ]
     },
     "execution_count": 9,
     "metadata": {},
     "output_type": "execute_result"
    }
   ],
   "source": [
    "# 기본 스트링 쿼리\n",
    "cur = conn.cursor()\n",
    "cur.execute(\"INSERT INTO Eagles('back_no', 'name', 'position') \\ \n",
    "             VALUES (30, '호잉', '외야수');\") "
   ]
  },
  {
   "cell_type": "code",
   "execution_count": 10,
   "metadata": {},
   "outputs": [],
   "source": [
    "conn.commit() # 변경사항 저장"
   ]
  },
  {
   "cell_type": "code",
   "execution_count": 11,
   "metadata": {},
   "outputs": [
    {
     "data": {
      "text/plain": [
       "<sqlite3.Cursor at 0x5a7d110>"
      ]
     },
     "execution_count": 11,
     "metadata": {},
     "output_type": "execute_result"
    }
   ],
   "source": [
    "cur = conn.cursor()\n",
    "# all 이면 생략\n",
    "cur.execute(\"INSERT INTO Eagles VALUES \\\n",
    "            (1, '하주석', '내야수', '우투좌타', '신일고', 184), \\\n",
    "            (9, '이동훈', '외야수', '좌투좌타', '상원고', 178); \")"
   ]
  },
  {
   "cell_type": "code",
   "execution_count": 12,
   "metadata": {},
   "outputs": [],
   "source": [
    "conn.commit()"
   ]
  },
  {
   "cell_type": "code",
   "execution_count": 13,
   "metadata": {},
   "outputs": [
    {
     "data": {
      "text/html": [
       "<div>\n",
       "<style scoped>\n",
       "    .dataframe tbody tr th:only-of-type {\n",
       "        vertical-align: middle;\n",
       "    }\n",
       "\n",
       "    .dataframe tbody tr th {\n",
       "        vertical-align: top;\n",
       "    }\n",
       "\n",
       "    .dataframe thead th {\n",
       "        text-align: right;\n",
       "    }\n",
       "</style>\n",
       "<table border=\"1\" class=\"dataframe\">\n",
       "  <thead>\n",
       "    <tr style=\"text-align: right;\">\n",
       "      <th></th>\n",
       "      <th>back_no</th>\n",
       "      <th>name</th>\n",
       "      <th>position</th>\n",
       "      <th>hands</th>\n",
       "      <th>highschool</th>\n",
       "      <th>height</th>\n",
       "    </tr>\n",
       "  </thead>\n",
       "  <tbody>\n",
       "    <tr>\n",
       "      <th>0</th>\n",
       "      <td>17</td>\n",
       "      <td>김범수</td>\n",
       "      <td>투수</td>\n",
       "      <td>좌투좌타</td>\n",
       "      <td>천안북일고</td>\n",
       "      <td>181</td>\n",
       "    </tr>\n",
       "    <tr>\n",
       "      <th>1</th>\n",
       "      <td>38</td>\n",
       "      <td>안영명</td>\n",
       "      <td>투수</td>\n",
       "      <td>우투우타</td>\n",
       "      <td>천안북일고</td>\n",
       "      <td>183</td>\n",
       "    </tr>\n",
       "    <tr>\n",
       "      <th>2</th>\n",
       "      <td>36</td>\n",
       "      <td>장민재</td>\n",
       "      <td>투수</td>\n",
       "      <td>우투우타</td>\n",
       "      <td>광주제일고</td>\n",
       "      <td>184</td>\n",
       "    </tr>\n",
       "    <tr>\n",
       "      <th>3</th>\n",
       "      <td>13</td>\n",
       "      <td>최재훈</td>\n",
       "      <td>포수</td>\n",
       "      <td>우투우타</td>\n",
       "      <td>덕수고</td>\n",
       "      <td>178</td>\n",
       "    </tr>\n",
       "    <tr>\n",
       "      <th>4</th>\n",
       "      <td>52</td>\n",
       "      <td>김태균</td>\n",
       "      <td>내야수</td>\n",
       "      <td>우투우타</td>\n",
       "      <td>천안북일고</td>\n",
       "      <td>185</td>\n",
       "    </tr>\n",
       "    <tr>\n",
       "      <th>5</th>\n",
       "      <td>6</td>\n",
       "      <td>오선진</td>\n",
       "      <td>내야수</td>\n",
       "      <td>우투우타</td>\n",
       "      <td>성남고</td>\n",
       "      <td>179</td>\n",
       "    </tr>\n",
       "    <tr>\n",
       "      <th>6</th>\n",
       "      <td>66</td>\n",
       "      <td>유장혁</td>\n",
       "      <td>외야수</td>\n",
       "      <td>우투우타</td>\n",
       "      <td>광주제일고</td>\n",
       "      <td>186</td>\n",
       "    </tr>\n",
       "    <tr>\n",
       "      <th>7</th>\n",
       "      <td>108</td>\n",
       "      <td>김관호</td>\n",
       "      <td>포수</td>\n",
       "      <td>우투우타</td>\n",
       "      <td>야탑고</td>\n",
       "      <td>179</td>\n",
       "    </tr>\n",
       "    <tr>\n",
       "      <th>8</th>\n",
       "      <td>65</td>\n",
       "      <td>김진욱</td>\n",
       "      <td>투수</td>\n",
       "      <td>우투우타</td>\n",
       "      <td>유신고</td>\n",
       "      <td>176</td>\n",
       "    </tr>\n",
       "    <tr>\n",
       "      <th>9</th>\n",
       "      <td>43</td>\n",
       "      <td>정은원</td>\n",
       "      <td>내야수</td>\n",
       "      <td>우투좌타</td>\n",
       "      <td>인천고</td>\n",
       "      <td>177</td>\n",
       "    </tr>\n",
       "  </tbody>\n",
       "</table>\n",
       "</div>"
      ],
      "text/plain": [
       "   back_no name position hands highschool  height\n",
       "0       17  김범수       투수  좌투좌타      천안북일고     181\n",
       "1       38  안영명       투수  우투우타      천안북일고     183\n",
       "2       36  장민재       투수  우투우타      광주제일고     184\n",
       "3       13  최재훈       포수  우투우타        덕수고     178\n",
       "4       52  김태균      내야수  우투우타      천안북일고     185\n",
       "5        6  오선진      내야수  우투우타        성남고     179\n",
       "6       66  유장혁      외야수  우투우타      광주제일고     186\n",
       "7      108  김관호       포수  우투우타        야탑고     179\n",
       "8       65  김진욱       투수  우투우타        유신고     176\n",
       "9       43  정은원      내야수  우투좌타        인천고     177"
      ]
     },
     "execution_count": 13,
     "metadata": {},
     "output_type": "execute_result"
    }
   ],
   "source": [
    "# 파일에서 읽어서 데이터베이스에 쓰기\n",
    "import numpy as np\n",
    "import pandas as pd\n",
    "players = pd.read_csv('.\\players.csv', encoding='EUC-KR')\n",
    "players"
   ]
  },
  {
   "cell_type": "code",
   "execution_count": 14,
   "metadata": {},
   "outputs": [],
   "source": [
    "cur = conn.cursor()\n",
    "sql = 'INSERT INTO Eagles VALUES (?, ?, ?, ?, ?, ?);'\n",
    "for i in range(10):\n",
    "    cur.execute(sql, (int(players.iloc[i,0]), \n",
    "                      players.iloc[i,1], players.iloc[i,2],\n",
    "                      players.iloc[i,3], players.iloc[i,4], \n",
    "                      int(players.iloc[i,5])))\n",
    "conn.commit()    "
   ]
  },
  {
   "cell_type": "markdown",
   "metadata": {},
   "source": [
    "### 4.2 데이터 조회"
   ]
  },
  {
   "cell_type": "code",
   "execution_count": 15,
   "metadata": {},
   "outputs": [
    {
     "name": "stdout",
     "output_type": "stream",
     "text": [
      "(30, '호잉', '외야수', None, None, None)\n",
      "(1, '하주석', '내야수', '우투좌타', '신일고', 184)\n",
      "(9, '이동훈', '외야수', '좌투좌타', '상원고', 178)\n",
      "(17, '김범수', '투수', '좌투좌타', '천안북일고', 181)\n",
      "(38, '안영명', '투수', '우투우타', '천안북일고', 183)\n",
      "(36, '장민재', '투수', '우투우타', '광주제일고', 184)\n",
      "(13, '최재훈', '포수', '우투우타', '덕수고', 178)\n",
      "(52, '김태균', '내야수', '우투우타', '천안북일고', 185)\n",
      "(6, '오선진', '내야수', '우투우타', '성남고', 179)\n",
      "(66, '유장혁', '외야수', '우투우타', '광주제일고', 186)\n",
      "(108, '김관호', '포수', '우투우타', '야탑고', 179)\n",
      "(65, '김진욱', '투수', '우투우타', '유신고', 176)\n",
      "(43, '정은원', '내야수', '우투좌타', '인천고', 177)\n"
     ]
    }
   ],
   "source": [
    "# 순회 조회\n",
    "cur = conn.cursor()\n",
    "cur.execute('SELECT * FROM Eagles')\n",
    "for row in cur:\n",
    "    print(row)  # tuple"
   ]
  },
  {
   "cell_type": "code",
   "execution_count": 16,
   "metadata": {},
   "outputs": [
    {
     "name": "stdout",
     "output_type": "stream",
     "text": [
      "(30, '호잉', '외야수', None, None, None)\n"
     ]
    }
   ],
   "source": [
    "# 단건 조회\n",
    "cur = conn.cursor()\n",
    "cur.execute('SELECT * FROM Eagles')\n",
    "row = cur.fetchone()\n",
    "print(row)"
   ]
  },
  {
   "cell_type": "code",
   "execution_count": 17,
   "metadata": {},
   "outputs": [
    {
     "name": "stdout",
     "output_type": "stream",
     "text": [
      "[(1, '하주석', '내야수', '우투좌타', '신일고', 184), (9, '이동훈', '외야수', '좌투좌타', '상원고', 178)]\n"
     ]
    }
   ],
   "source": [
    "# 다건 조회\n",
    "rows = cur.fetchmany(2)\n",
    "print(rows)"
   ]
  },
  {
   "cell_type": "code",
   "execution_count": 18,
   "metadata": {},
   "outputs": [
    {
     "name": "stdout",
     "output_type": "stream",
     "text": [
      "(17, '김범수', '투수', '좌투좌타', '천안북일고', 181)\n",
      "(38, '안영명', '투수', '우투우타', '천안북일고', 183)\n",
      "(36, '장민재', '투수', '우투우타', '광주제일고', 184)\n",
      "(13, '최재훈', '포수', '우투우타', '덕수고', 178)\n",
      "(52, '김태균', '내야수', '우투우타', '천안북일고', 185)\n",
      "(6, '오선진', '내야수', '우투우타', '성남고', 179)\n",
      "(66, '유장혁', '외야수', '우투우타', '광주제일고', 186)\n",
      "(108, '김관호', '포수', '우투우타', '야탑고', 179)\n",
      "(65, '김진욱', '투수', '우투우타', '유신고', 176)\n",
      "(43, '정은원', '내야수', '우투좌타', '인천고', 177)\n"
     ]
    }
   ],
   "source": [
    "# 모두 조회\n",
    "rows = cur.fetchall()\n",
    "for row in rows:\n",
    "    print(row)"
   ]
  },
  {
   "cell_type": "code",
   "execution_count": 19,
   "metadata": {},
   "outputs": [
    {
     "name": "stdout",
     "output_type": "stream",
     "text": [
      "('최재훈',)\n",
      "('김범수',)\n",
      "('호잉',)\n",
      "('장민재',)\n",
      "('안영명',)\n",
      "('정은원',)\n",
      "('김태균',)\n",
      "('김진욱',)\n",
      "('유장혁',)\n",
      "('김관호',)\n"
     ]
    }
   ],
   "source": [
    "# 필요한 column만 조회\n",
    "cur = conn.cursor()\n",
    "cur.execute(\"SELECT name FROM Eagles WHERE back_no > 10\")\n",
    "rows = cur.fetchall();\n",
    "for row in rows:\n",
    "    print(row)"
   ]
  },
  {
   "cell_type": "code",
   "execution_count": null,
   "metadata": {},
   "outputs": [],
   "source": [
    "# 원하는 순서 및 갯수\n",
    "cur.execute('SELECT * FROM Eagles ORDER BY name')\n",
    "cur.execute('SELECT * FROM Eagles ORDER BY name DESC')\n",
    "cur.execute('SELECT * FROM Eagles ORDER BY name DESC LIMIT 1')\n",
    "row = cur.fetchone()\n",
    "print(row[1]) # ‘하주석’"
   ]
  },
  {
   "cell_type": "code",
   "execution_count": null,
   "metadata": {},
   "outputs": [],
   "source": [
    "# 집계 함수\n",
    "cur.execute('SELECT count(*) FROM Eagles')\n",
    "count = cur.fetchone()\n",
    "max(column), min(column), sum(column), avg(column)  "
   ]
  },
  {
   "cell_type": "markdown",
   "metadata": {},
   "source": [
    "### 4.3 데이터 검색"
   ]
  },
  {
   "cell_type": "code",
   "execution_count": null,
   "metadata": {},
   "outputs": [],
   "source": [
    "## 기본 스트링 쿼리\n",
    "# cur = conn.cursor()\n",
    "# cur.execute(\"SELECT * FROM Eagles WHERE position='내야수';\")\n",
    "# rows = cur.fetchall();\n",
    "# for row in rows:\n",
    "#     print(row)\n",
    "## Placeholder\n",
    "# cur = con.cursor()\n",
    "# back_no = 50\n",
    "# cur.execute('SELECT * FROM Eagles WHERE back_no=?;', (back_no,))\n",
    "# player = cur.fetchone()\n",
    "# print(player[0]) # 50\n",
    "## Grouping\n",
    "# sql = 'SELECT position, count(*) FROM Eagles GROUP BY position'"
   ]
  },
  {
   "cell_type": "markdown",
   "metadata": {},
   "source": [
    "### 4.4 데이터 변경"
   ]
  },
  {
   "cell_type": "code",
   "execution_count": null,
   "metadata": {},
   "outputs": [],
   "source": [
    "# position = '외야수'\n",
    "# back_no = 8\n",
    "# cur.execute('UPDATE Eagles SET position=? WHERE back_no=?;',\n",
    "#             (position, back_no))\n",
    "# cur.execute('SELECT * FROM Eagles WHERE back_no=?', (back_no,))\n",
    "# cur.fetchone()\n",
    "# data = ((1995,1), (1986,57))\n",
    "# sql = 'UPDATE Eagles SET position=? WHERE back_no=?'\n",
    "# cur.executedmany(sql, data)"
   ]
  },
  {
   "cell_type": "markdown",
   "metadata": {},
   "source": [
    "### 4.5 데이터 삭제"
   ]
  },
  {
   "cell_type": "code",
   "execution_count": null,
   "metadata": {},
   "outputs": [],
   "source": [
    "# cur = con.cursor()\n",
    "# cur.execute('DELETE FROM Eagles WHERE back_no=1;')"
   ]
  }
 ],
 "metadata": {
  "kernelspec": {
   "display_name": "Python 3",
   "language": "python",
   "name": "python3"
  },
  "language_info": {
   "codemirror_mode": {
    "name": "ipython",
    "version": 3
   },
   "file_extension": ".py",
   "mimetype": "text/x-python",
   "name": "python",
   "nbconvert_exporter": "python",
   "pygments_lexer": "ipython3",
   "version": "3.7.3"
  }
 },
 "nbformat": 4,
 "nbformat_minor": 2
}
