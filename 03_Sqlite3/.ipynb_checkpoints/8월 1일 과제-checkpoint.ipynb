{
 "cells": [
  {
   "cell_type": "markdown",
   "metadata": {},
   "source": [
    "# 8월 1일 과제\n",
    "## 황 성 윤"
   ]
  },
  {
   "cell_type": "code",
   "execution_count": 3,
   "metadata": {},
   "outputs": [],
   "source": [
    "import sqlite3"
   ]
  },
  {
   "cell_type": "markdown",
   "metadata": {},
   "source": [
    "### 1. 데이터베이스 접속"
   ]
  },
  {
   "cell_type": "code",
   "execution_count": 4,
   "metadata": {},
   "outputs": [],
   "source": [
    "conn = sqlite3.connect('./test.db') # 파일 DB 접속"
   ]
  },
  {
   "cell_type": "markdown",
   "metadata": {},
   "source": [
    "### 2. 테이블 생성"
   ]
  },
  {
   "cell_type": "code",
   "execution_count": 5,
   "metadata": {},
   "outputs": [
    {
     "data": {
      "text/plain": [
       "<sqlite3.Cursor at 0x581bf10>"
      ]
     },
     "execution_count": 5,
     "metadata": {},
     "output_type": "execute_result"
    }
   ],
   "source": [
    "cur = conn.cursor()\n",
    "# Eagles table\n",
    "cur.execute('CREATE TABLE IF NOT EXISTS Eagles \\\n",
    "    (back_no INT NOT NULL, \\\n",
    "     name TEXT, \\\n",
    "     position TEXT, \\\n",
    "     hands TEXT, \\\n",
    "     highschool TEXT, \\\n",
    "     height INT, \\\n",
    "     PRIMARY KEY(back_no));')"
   ]
  },
  {
   "cell_type": "markdown",
   "metadata": {},
   "source": [
    "### 3. 데이터 삽입 및 처리"
   ]
  },
  {
   "cell_type": "code",
   "execution_count": 6,
   "metadata": {},
   "outputs": [],
   "source": [
    "# 기본 스트링 쿼리\n",
    "cur = conn.cursor()\n",
    "cur.execute(\"INSERT INTO Eagles('back_no', 'name', 'position') VALUES (30, '호잉', '외야수');\") \n",
    "conn.commit() # 변경사항 저장"
   ]
  },
  {
   "cell_type": "code",
   "execution_count": 7,
   "metadata": {},
   "outputs": [],
   "source": [
    "cur = conn.cursor()\n",
    "# all 이면 생략\n",
    "cur.execute(\"INSERT INTO Eagles VALUES \\\n",
    "            (1, '하주석', '내야수', '우투좌타', '신일고', 184), \\\n",
    "            (9, '이동훈', '외야수', '좌투좌타', '상원고', 178); \")\n",
    "conn.commit()"
   ]
  },
  {
   "cell_type": "code",
   "execution_count": 8,
   "metadata": {},
   "outputs": [
    {
     "data": {
      "text/html": [
       "<div>\n",
       "<style scoped>\n",
       "    .dataframe tbody tr th:only-of-type {\n",
       "        vertical-align: middle;\n",
       "    }\n",
       "\n",
       "    .dataframe tbody tr th {\n",
       "        vertical-align: top;\n",
       "    }\n",
       "\n",
       "    .dataframe thead th {\n",
       "        text-align: right;\n",
       "    }\n",
       "</style>\n",
       "<table border=\"1\" class=\"dataframe\">\n",
       "  <thead>\n",
       "    <tr style=\"text-align: right;\">\n",
       "      <th></th>\n",
       "      <th>back_no</th>\n",
       "      <th>name</th>\n",
       "      <th>position</th>\n",
       "      <th>hands</th>\n",
       "      <th>highschool</th>\n",
       "      <th>height</th>\n",
       "    </tr>\n",
       "  </thead>\n",
       "  <tbody>\n",
       "    <tr>\n",
       "      <th>0</th>\n",
       "      <td>17</td>\n",
       "      <td>김범수</td>\n",
       "      <td>투수</td>\n",
       "      <td>좌투좌타</td>\n",
       "      <td>천안북일고</td>\n",
       "      <td>181</td>\n",
       "    </tr>\n",
       "    <tr>\n",
       "      <th>1</th>\n",
       "      <td>38</td>\n",
       "      <td>안영명</td>\n",
       "      <td>투수</td>\n",
       "      <td>우투우타</td>\n",
       "      <td>천안북일고</td>\n",
       "      <td>183</td>\n",
       "    </tr>\n",
       "    <tr>\n",
       "      <th>2</th>\n",
       "      <td>36</td>\n",
       "      <td>장민재</td>\n",
       "      <td>투수</td>\n",
       "      <td>우투우타</td>\n",
       "      <td>광주제일고</td>\n",
       "      <td>184</td>\n",
       "    </tr>\n",
       "    <tr>\n",
       "      <th>3</th>\n",
       "      <td>13</td>\n",
       "      <td>최재훈</td>\n",
       "      <td>포수</td>\n",
       "      <td>우투우타</td>\n",
       "      <td>덕수고</td>\n",
       "      <td>178</td>\n",
       "    </tr>\n",
       "    <tr>\n",
       "      <th>4</th>\n",
       "      <td>52</td>\n",
       "      <td>김태균</td>\n",
       "      <td>내야수</td>\n",
       "      <td>우투우타</td>\n",
       "      <td>천안북일고</td>\n",
       "      <td>185</td>\n",
       "    </tr>\n",
       "    <tr>\n",
       "      <th>5</th>\n",
       "      <td>6</td>\n",
       "      <td>오선진</td>\n",
       "      <td>내야수</td>\n",
       "      <td>우투우타</td>\n",
       "      <td>성남고</td>\n",
       "      <td>179</td>\n",
       "    </tr>\n",
       "    <tr>\n",
       "      <th>6</th>\n",
       "      <td>66</td>\n",
       "      <td>유장혁</td>\n",
       "      <td>외야수</td>\n",
       "      <td>우투우타</td>\n",
       "      <td>광주제일고</td>\n",
       "      <td>186</td>\n",
       "    </tr>\n",
       "    <tr>\n",
       "      <th>7</th>\n",
       "      <td>108</td>\n",
       "      <td>김관호</td>\n",
       "      <td>포수</td>\n",
       "      <td>우투우타</td>\n",
       "      <td>야탑고</td>\n",
       "      <td>179</td>\n",
       "    </tr>\n",
       "    <tr>\n",
       "      <th>8</th>\n",
       "      <td>65</td>\n",
       "      <td>김진욱</td>\n",
       "      <td>투수</td>\n",
       "      <td>우투우타</td>\n",
       "      <td>유신고</td>\n",
       "      <td>176</td>\n",
       "    </tr>\n",
       "    <tr>\n",
       "      <th>9</th>\n",
       "      <td>43</td>\n",
       "      <td>정은원</td>\n",
       "      <td>내야수</td>\n",
       "      <td>우투좌타</td>\n",
       "      <td>인천고</td>\n",
       "      <td>177</td>\n",
       "    </tr>\n",
       "  </tbody>\n",
       "</table>\n",
       "</div>"
      ],
      "text/plain": [
       "   back_no name position hands highschool  height\n",
       "0       17  김범수       투수  좌투좌타      천안북일고     181\n",
       "1       38  안영명       투수  우투우타      천안북일고     183\n",
       "2       36  장민재       투수  우투우타      광주제일고     184\n",
       "3       13  최재훈       포수  우투우타        덕수고     178\n",
       "4       52  김태균      내야수  우투우타      천안북일고     185\n",
       "5        6  오선진      내야수  우투우타        성남고     179\n",
       "6       66  유장혁      외야수  우투우타      광주제일고     186\n",
       "7      108  김관호       포수  우투우타        야탑고     179\n",
       "8       65  김진욱       투수  우투우타        유신고     176\n",
       "9       43  정은원      내야수  우투좌타        인천고     177"
      ]
     },
     "execution_count": 8,
     "metadata": {},
     "output_type": "execute_result"
    }
   ],
   "source": [
    "# 파일에서 읽어서 데이터베이스에 쓰기\n",
    "import numpy as np\n",
    "import pandas as pd\n",
    "players = pd.read_csv('.\\players.csv', encoding='EUC-KR')\n",
    "players"
   ]
  },
  {
   "cell_type": "code",
   "execution_count": 9,
   "metadata": {},
   "outputs": [],
   "source": [
    "cur = conn.cursor()\n",
    "sql = 'INSERT INTO Eagles VALUES (?, ?, ?, ?, ?, ?);'\n",
    "for i in range(10):\n",
    "    cur.execute(sql, (int(players.iloc[i,0]), \n",
    "                      players.iloc[i,1], players.iloc[i,2],\n",
    "                      players.iloc[i,3], players.iloc[i,4], \n",
    "                      int(players.iloc[i,5])))\n",
    "conn.commit()    "
   ]
  },
  {
   "cell_type": "code",
   "execution_count": 10,
   "metadata": {},
   "outputs": [],
   "source": [
    "cur = conn.cursor()\n",
    "cur.execute(\"UPDATE Eagles SET hands='우투좌타', highschool='미상', height=190 \\\n",
    "             WHERE back_no=30;\")\n",
    "conn.commit()"
   ]
  },
  {
   "cell_type": "code",
   "execution_count": 11,
   "metadata": {},
   "outputs": [
    {
     "name": "stdout",
     "output_type": "stream",
     "text": [
      "(30, '호잉', '외야수', '우투좌타', '미상', 190)\n",
      "(1, '하주석', '내야수', '우투좌타', '신일고', 184)\n",
      "(9, '이동훈', '외야수', '좌투좌타', '상원고', 178)\n",
      "(17, '김범수', '투수', '좌투좌타', '천안북일고', 181)\n",
      "(38, '안영명', '투수', '우투우타', '천안북일고', 183)\n",
      "(36, '장민재', '투수', '우투우타', '광주제일고', 184)\n",
      "(13, '최재훈', '포수', '우투우타', '덕수고', 178)\n",
      "(52, '김태균', '내야수', '우투우타', '천안북일고', 185)\n",
      "(6, '오선진', '내야수', '우투우타', '성남고', 179)\n",
      "(66, '유장혁', '외야수', '우투우타', '광주제일고', 186)\n",
      "(108, '김관호', '포수', '우투우타', '야탑고', 179)\n",
      "(65, '김진욱', '투수', '우투우타', '유신고', 176)\n",
      "(43, '정은원', '내야수', '우투좌타', '인천고', 177)\n"
     ]
    }
   ],
   "source": [
    "# 순회 조회\n",
    "cur = conn.cursor()\n",
    "cur.execute('SELECT * FROM Eagles')\n",
    "for row in cur:\n",
    "    print(row)  # tuple"
   ]
  },
  {
   "cell_type": "code",
   "execution_count": null,
   "metadata": {},
   "outputs": [],
   "source": []
  }
 ],
 "metadata": {
  "kernelspec": {
   "display_name": "Python 3",
   "language": "python",
   "name": "python3"
  },
  "language_info": {
   "codemirror_mode": {
    "name": "ipython",
    "version": 3
   },
   "file_extension": ".py",
   "mimetype": "text/x-python",
   "name": "python",
   "nbconvert_exporter": "python",
   "pygments_lexer": "ipython3",
   "version": "3.7.3"
  }
 },
 "nbformat": 4,
 "nbformat_minor": 2
}
