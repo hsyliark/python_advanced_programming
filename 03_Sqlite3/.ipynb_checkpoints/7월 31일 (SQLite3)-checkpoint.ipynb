{
 "cells": [
  {
   "cell_type": "markdown",
   "metadata": {},
   "source": [
    "# SQLite3\n",
    "\n",
    "## 1. SQLite3 개요\n",
    "\n",
    "### 1.1 경량 DBMS\n",
    "- 별도의 서버가 필요 없음\n",
    "- 모바일 기기에서 많이 활용되고 있음\n",
    "- 파이썬3에 기본 내장되어 있음\n",
    "- 파일 또는 메모리에 DB 생성\n",
    "- 참고자료: SQLite로 가볍게 배우는 데이터베이스 (WikiDocs)\n",
    "\n",
    "### 1.2 데이터 타입\n",
    "- 동적 데이터 타입\n",
    "- Null, Integer, Real, Text, Blob 유형이 있음 (Boolean, Date, Time 없음)\n",
    "- 다른 유형 데이터를 삽입해도 컬럼에 맞게 알아서 들어감.\n",
    "- 다른 DB에서 사용하는 데이터유형 이름 그대로 사용해도 무방\n",
    "\n",
    "### 1.3 DBMS 관리 툴\n",
    "- SQLite Expert (http://www.sqliteexpert.com/download.html)\n",
    "- Personal version은 freeware 이므로 사용할 수 있음."
   ]
  },
  {
   "cell_type": "markdown",
   "metadata": {},
   "source": [
    "## 2. 파이썬에서 사용하는 방법"
   ]
  },
  {
   "cell_type": "markdown",
   "metadata": {},
   "source": [
    "### 2.1 데이터베이스 접속"
   ]
  },
  {
   "cell_type": "code",
   "execution_count": null,
   "metadata": {},
   "outputs": [],
   "source": [
    "# import sqlite3 \n",
    "# conn = sqlite3.connect(':memory:') # 메모리 DB 접속(일회성)\n",
    "# conn = sqlite3.connect('./test.db') # 파일 DB 접속\n",
    "# . . .\n",
    "# 데이터 쿼리 수행\n",
    "# . . .\n",
    "# conn.commit() # 변경사항 저장\n",
    "# conn.close()"
   ]
  },
  {
   "cell_type": "code",
   "execution_count": 31,
   "metadata": {},
   "outputs": [],
   "source": [
    "import sqlite3\n",
    "conn = sqlite3.connect('./test.db') # 파일 DB 접속"
   ]
  },
  {
   "cell_type": "markdown",
   "metadata": {},
   "source": [
    "### 2.2 with 문 이용"
   ]
  },
  {
   "cell_type": "code",
   "execution_count": null,
   "metadata": {},
   "outputs": [],
   "source": [
    "# import sqlite3\n",
    "# conn = sqlite3.connect('./test.db')\n",
    "# with conn:  # close 이용 안 할 시\n",
    "#     cur = conn.cursor()\n",
    "#     cur.execute(\"SELECT * FROM test_table\")\n",
    "#     rows = cur.fetchall()\n",
    "#     for row in rows:\n",
    "#         print(row)"
   ]
  },
  {
   "cell_type": "markdown",
   "metadata": {},
   "source": [
    "## 3. Data Definition Language(DDL) "
   ]
  },
  {
   "cell_type": "markdown",
   "metadata": {},
   "source": [
    "### 3.1 테이블 생성 "
   ]
  },
  {
   "cell_type": "code",
   "execution_count": 32,
   "metadata": {},
   "outputs": [],
   "source": [
    "cur = conn.cursor()"
   ]
  },
  {
   "cell_type": "code",
   "execution_count": 33,
   "metadata": {},
   "outputs": [
    {
     "data": {
      "text/plain": [
       "<sqlite3.Cursor at 0x8f089d0>"
      ]
     },
     "execution_count": 33,
     "metadata": {},
     "output_type": "execute_result"
    }
   ],
   "source": [
    "cur.execute('CREATE TABLE IF NOT EXISTS Eagles \\\n",
    "    (back_no INT NOT NULL, \\\n",
    "     name TEXT, \\\n",
    "     position TEXT, \\\n",
    "     hands TEXT, \\\n",
    "     highschool TEXT, \\\n",
    "     height INT, \\\n",
    "     PRIMARY KEY(back_no));')"
   ]
  },
  {
   "cell_type": "markdown",
   "metadata": {},
   "source": [
    "### 3.2 테이블 변경"
   ]
  },
  {
   "cell_type": "code",
   "execution_count": null,
   "metadata": {},
   "outputs": [],
   "source": [
    "cur.execute('ALTER TABLE Eagles ADD COLUMN birth INTEGER')\n",
    "cur.execute('ALTER TABLE Eagles RENAME TO Eagles.backup')"
   ]
  },
  {
   "cell_type": "markdown",
   "metadata": {},
   "source": [
    "### 3.3 테이블 삭제"
   ]
  },
  {
   "cell_type": "code",
   "execution_count": null,
   "metadata": {},
   "outputs": [],
   "source": [
    "cur.execute('DROP TABLE Eagles')"
   ]
  },
  {
   "cell_type": "markdown",
   "metadata": {},
   "source": [
    "## 4. 데이터 조작 언어(Data Manipulation Language, DML)"
   ]
  },
  {
   "cell_type": "markdown",
   "metadata": {},
   "source": [
    "### 4.1 데이터 삽입"
   ]
  },
  {
   "cell_type": "code",
   "execution_count": null,
   "metadata": {},
   "outputs": [],
   "source": [
    "## 기본 스트링 쿼리\n",
    "# cur = conn.cursor()\n",
    "# cur.execute(\"INSERT INTO Eagles VALUES \\\n",
    "#             (1, '하주석', '내야수', '우투좌타', '신일고', 184);\")\n",
    "# cur.execute(\"INSERT INTO Eagles VALUES \\\n",
    "#             (57, '정우람', '투수'), (8, '정근우', '내야수');\")\n",
    "## 파라메터: 튜플 사용\n",
    "# back_no = 50\n",
    "# name = '이성열'\n",
    "# position = '외야수'\n",
    "# cur = conn.cursor()\n",
    "# sql = 'INSERT INTO Eagles VALUES (?, ?, ?);'\n",
    "# cur.execute(sql, (back_no, name, position))\n",
    "## 튜플 리스트 사용\n",
    "# players = ((22, '이태양', '투수'), (13, '최재훈', '포수'))\n",
    "# cur = conn.cursor()\n",
    "# sql = 'INSERT INTO Eagles VALUES (?, ?, ?);'\n",
    "# cur.executemany(sql, players)"
   ]
  },
  {
   "cell_type": "code",
   "execution_count": 35,
   "metadata": {},
   "outputs": [
    {
     "ename": "IntegrityError",
     "evalue": "UNIQUE constraint failed: Eagles.back_no",
     "output_type": "error",
     "traceback": [
      "\u001b[1;31m---------------------------------------------------------------------------\u001b[0m",
      "\u001b[1;31mIntegrityError\u001b[0m                            Traceback (most recent call last)",
      "\u001b[1;32m<ipython-input-35-ec0b6a751e61>\u001b[0m in \u001b[0;36m<module>\u001b[1;34m\u001b[0m\n\u001b[0;32m      3\u001b[0m cur.execute(\"INSERT INTO Eagles VALUES \\\n\u001b[0;32m      4\u001b[0m             \u001b[1;33m(\u001b[0m\u001b[1;36m1\u001b[0m\u001b[1;33m,\u001b[0m \u001b[1;34m'하주석'\u001b[0m\u001b[1;33m,\u001b[0m \u001b[1;34m'내야수'\u001b[0m\u001b[1;33m,\u001b[0m \u001b[1;34m'우투좌타'\u001b[0m\u001b[1;33m,\u001b[0m \u001b[1;34m'신일고'\u001b[0m\u001b[1;33m,\u001b[0m \u001b[1;36m184\u001b[0m\u001b[1;33m)\u001b[0m\u001b[1;33m,\u001b[0m\u001b[0;31m \u001b[0m\u001b[0;31m\\\u001b[0m\u001b[1;33m\u001b[0m\u001b[1;33m\u001b[0m\u001b[0m\n\u001b[1;32m----> 5\u001b[1;33m             (9, '이동훈', '외야수', '좌투좌타', '상원고', 178); \")\n\u001b[0m",
      "\u001b[1;31mIntegrityError\u001b[0m: UNIQUE constraint failed: Eagles.back_no"
     ]
    }
   ],
   "source": [
    "# 기본 스트링 쿼리\n",
    "cur = conn.cursor()\n",
    "cur.execute(\"INSERT INTO Eagles VALUES \\\n",
    "            (1, '하주석', '내야수', '우투좌타', '신일고', 184), \\\n",
    "            (9, '이동훈', '외야수', '좌투좌타', '상원고', 178); \")"
   ]
  },
  {
   "cell_type": "code",
   "execution_count": 36,
   "metadata": {},
   "outputs": [],
   "source": [
    "conn.commit()"
   ]
  },
  {
   "cell_type": "code",
   "execution_count": 37,
   "metadata": {},
   "outputs": [],
   "source": [
    "import numpy as np\n",
    "import pandas as pd\n",
    "players = pd.read_csv('players.csv', encoding='EUC-KR')"
   ]
  },
  {
   "cell_type": "code",
   "execution_count": 40,
   "metadata": {},
   "outputs": [
    {
     "data": {
      "text/html": [
       "<div>\n",
       "<style scoped>\n",
       "    .dataframe tbody tr th:only-of-type {\n",
       "        vertical-align: middle;\n",
       "    }\n",
       "\n",
       "    .dataframe tbody tr th {\n",
       "        vertical-align: top;\n",
       "    }\n",
       "\n",
       "    .dataframe thead th {\n",
       "        text-align: right;\n",
       "    }\n",
       "</style>\n",
       "<table border=\"1\" class=\"dataframe\">\n",
       "  <thead>\n",
       "    <tr style=\"text-align: right;\">\n",
       "      <th></th>\n",
       "      <th>back_no</th>\n",
       "      <th>name</th>\n",
       "      <th>position</th>\n",
       "      <th>hands</th>\n",
       "      <th>highschool</th>\n",
       "      <th>height</th>\n",
       "    </tr>\n",
       "  </thead>\n",
       "  <tbody>\n",
       "    <tr>\n",
       "      <th>0</th>\n",
       "      <td>17</td>\n",
       "      <td>김범수</td>\n",
       "      <td>투수</td>\n",
       "      <td>좌투좌타</td>\n",
       "      <td>천안북일고</td>\n",
       "      <td>181</td>\n",
       "    </tr>\n",
       "    <tr>\n",
       "      <th>1</th>\n",
       "      <td>38</td>\n",
       "      <td>안영명</td>\n",
       "      <td>투수</td>\n",
       "      <td>우투우타</td>\n",
       "      <td>천안북일고</td>\n",
       "      <td>183</td>\n",
       "    </tr>\n",
       "    <tr>\n",
       "      <th>2</th>\n",
       "      <td>36</td>\n",
       "      <td>장민재</td>\n",
       "      <td>투수</td>\n",
       "      <td>우투우타</td>\n",
       "      <td>광주제일고</td>\n",
       "      <td>184</td>\n",
       "    </tr>\n",
       "    <tr>\n",
       "      <th>3</th>\n",
       "      <td>13</td>\n",
       "      <td>최재훈</td>\n",
       "      <td>포수</td>\n",
       "      <td>우투우타</td>\n",
       "      <td>덕수고</td>\n",
       "      <td>178</td>\n",
       "    </tr>\n",
       "    <tr>\n",
       "      <th>4</th>\n",
       "      <td>52</td>\n",
       "      <td>김태균</td>\n",
       "      <td>내야수</td>\n",
       "      <td>우투우타</td>\n",
       "      <td>천안북일고</td>\n",
       "      <td>185</td>\n",
       "    </tr>\n",
       "    <tr>\n",
       "      <th>5</th>\n",
       "      <td>6</td>\n",
       "      <td>오선진</td>\n",
       "      <td>내야수</td>\n",
       "      <td>우투우타</td>\n",
       "      <td>성남고</td>\n",
       "      <td>179</td>\n",
       "    </tr>\n",
       "    <tr>\n",
       "      <th>6</th>\n",
       "      <td>66</td>\n",
       "      <td>유장혁</td>\n",
       "      <td>외야수</td>\n",
       "      <td>우투우타</td>\n",
       "      <td>광주제일고</td>\n",
       "      <td>186</td>\n",
       "    </tr>\n",
       "    <tr>\n",
       "      <th>7</th>\n",
       "      <td>108</td>\n",
       "      <td>김관호</td>\n",
       "      <td>포수</td>\n",
       "      <td>우투우타</td>\n",
       "      <td>야탑고</td>\n",
       "      <td>179</td>\n",
       "    </tr>\n",
       "    <tr>\n",
       "      <th>8</th>\n",
       "      <td>65</td>\n",
       "      <td>김진욱</td>\n",
       "      <td>투수</td>\n",
       "      <td>우투우타</td>\n",
       "      <td>유신고</td>\n",
       "      <td>176</td>\n",
       "    </tr>\n",
       "    <tr>\n",
       "      <th>9</th>\n",
       "      <td>43</td>\n",
       "      <td>정은원</td>\n",
       "      <td>내야수</td>\n",
       "      <td>우투좌타</td>\n",
       "      <td>인천고</td>\n",
       "      <td>177</td>\n",
       "    </tr>\n",
       "  </tbody>\n",
       "</table>\n",
       "</div>"
      ],
      "text/plain": [
       "   back_no name position hands highschool  height\n",
       "0       17  김범수       투수  좌투좌타      천안북일고     181\n",
       "1       38  안영명       투수  우투우타      천안북일고     183\n",
       "2       36  장민재       투수  우투우타      광주제일고     184\n",
       "3       13  최재훈       포수  우투우타        덕수고     178\n",
       "4       52  김태균      내야수  우투우타      천안북일고     185\n",
       "5        6  오선진      내야수  우투우타        성남고     179\n",
       "6       66  유장혁      외야수  우투우타      광주제일고     186\n",
       "7      108  김관호       포수  우투우타        야탑고     179\n",
       "8       65  김진욱       투수  우투우타        유신고     176\n",
       "9       43  정은원      내야수  우투좌타        인천고     177"
      ]
     },
     "execution_count": 40,
     "metadata": {},
     "output_type": "execute_result"
    }
   ],
   "source": [
    "players"
   ]
  },
  {
   "cell_type": "code",
   "execution_count": 41,
   "metadata": {},
   "outputs": [
    {
     "ename": "IntegrityError",
     "evalue": "UNIQUE constraint failed: Eagles.back_no",
     "output_type": "error",
     "traceback": [
      "\u001b[1;31m---------------------------------------------------------------------------\u001b[0m",
      "\u001b[1;31mIntegrityError\u001b[0m                            Traceback (most recent call last)",
      "\u001b[1;32m<ipython-input-41-9f47e0ec0ede>\u001b[0m in \u001b[0;36m<module>\u001b[1;34m\u001b[0m\n\u001b[0;32m      3\u001b[0m \u001b[1;32mfor\u001b[0m \u001b[0mi\u001b[0m \u001b[1;32min\u001b[0m \u001b[0mrange\u001b[0m\u001b[1;33m(\u001b[0m\u001b[1;36m10\u001b[0m\u001b[1;33m)\u001b[0m\u001b[1;33m:\u001b[0m\u001b[1;33m\u001b[0m\u001b[1;33m\u001b[0m\u001b[0m\n\u001b[0;32m      4\u001b[0m     cur.execute(sql, (int(players.iloc[i,0]), players.iloc[i,1], players.iloc[i,2],\n\u001b[1;32m----> 5\u001b[1;33m                       players.iloc[i,3], players.iloc[i,4], int(players.iloc[i,5])))\n\u001b[0m\u001b[0;32m      6\u001b[0m \u001b[0mconn\u001b[0m\u001b[1;33m.\u001b[0m\u001b[0mcommit\u001b[0m\u001b[1;33m(\u001b[0m\u001b[1;33m)\u001b[0m\u001b[1;33m\u001b[0m\u001b[1;33m\u001b[0m\u001b[0m\n",
      "\u001b[1;31mIntegrityError\u001b[0m: UNIQUE constraint failed: Eagles.back_no"
     ]
    }
   ],
   "source": [
    "cur = conn.cursor()\n",
    "sql = 'INSERT INTO Eagles VALUES (?, ?, ?, ?, ?, ?);'\n",
    "for i in range(10):\n",
    "    cur.execute(sql, (int(players.iloc[i,0]), players.iloc[i,1], players.iloc[i,2],\n",
    "                      players.iloc[i,3], players.iloc[i,4], int(players.iloc[i,5])))\n",
    "conn.commit()    "
   ]
  },
  {
   "cell_type": "code",
   "execution_count": 42,
   "metadata": {},
   "outputs": [],
   "source": [
    "conn.close()"
   ]
  },
  {
   "cell_type": "markdown",
   "metadata": {},
   "source": [
    "### 4.2 데이터 조회"
   ]
  },
  {
   "cell_type": "code",
   "execution_count": null,
   "metadata": {},
   "outputs": [],
   "source": [
    "## 순회 조회\n",
    "# cur = conn.cursor()\n",
    "# cur.execute('SELECT * FROM Eagles')\n",
    "# for row in cur:\n",
    "#     print(row)\n",
    "## 단건 조회\n",
    "# cur = conn.cursor()\n",
    "# cur.execute('SELECT * FROM Eagles')\n",
    "# row = cur.fetchone()\n",
    "## 다건 조회\n",
    "# rows = cur.fetchmany(2)\n",
    "## 모두 조회\n",
    "# rows = cur.fetchall()\n",
    "# for row in rows:\n",
    "#     print(row)\n",
    "## 필요한 column만 조회\n",
    "# cur = conn.cursor()\n",
    "# cur.execute(\"SELECT name FROM Eagles WHERE back_no > 10\")\n",
    "# rows = cur.fetchall();\n",
    "# for row in rows:\n",
    "#     print(row)\n",
    "## 원하는 순서 및 갯수\n",
    "# cur.execute('SELECT * FROM Eagles ORDER BY name')\n",
    "# cur.execute('SELECT * FROM Eagles ORDER BY name DESC')\n",
    "# cur.execute('SELECT * FROM Eagles ORDER BY name DESC LIMIT 1')\n",
    "# row = cur.fetchone()\n",
    "# print(row[1]) # ‘하주석’\n",
    "## 집계 함수\n",
    "# cur.execute('SELECT count(*) FROM Eagles')\n",
    "# count = cur.fetchone()\n",
    "# max(column), min(column), sum(column), avg(column)    "
   ]
  },
  {
   "cell_type": "markdown",
   "metadata": {},
   "source": [
    "### 4.3 데이터 검색"
   ]
  },
  {
   "cell_type": "code",
   "execution_count": null,
   "metadata": {},
   "outputs": [],
   "source": [
    "## 기본 스트링 쿼리\n",
    "# cur = conn.cursor()\n",
    "# cur.execute(\"SELECT * FROM Eagles WHERE position='내야수';\")\n",
    "# rows = cur.fetchall();\n",
    "# for row in rows:\n",
    "#     print(row)\n",
    "## Placeholder\n",
    "# cur = con.cursor()\n",
    "# back_no = 50\n",
    "# cur.execute('SELECT * FROM Eagles WHERE back_no=?;', (back_no,))\n",
    "# player = cur.fetchone()\n",
    "# print(player[0]) # 50\n",
    "## Grouping\n",
    "# sql = 'SELECT position, count(*) FROM Eagles GROUP BY position'"
   ]
  },
  {
   "cell_type": "markdown",
   "metadata": {},
   "source": [
    "### 4.4 데이터 변경"
   ]
  },
  {
   "cell_type": "code",
   "execution_count": null,
   "metadata": {},
   "outputs": [],
   "source": [
    "# position = '외야수'\n",
    "# back_no = 8\n",
    "# cur.execute('UPDATE Eagles SET position=? WHERE back_no=?;',\n",
    "#             (position, back_no))\n",
    "# cur.execute('SELECT * FROM Eagles WHERE back_no=?', (back_no,))\n",
    "# cur.fetchone()\n",
    "# data = ((1995,1), (1986,57))\n",
    "# sql = 'UPDATE Eagles SET position=? WHERE back_no=?'\n",
    "# cur.executedmany(sql, data)"
   ]
  },
  {
   "cell_type": "markdown",
   "metadata": {},
   "source": [
    "### 4.5 데이터 삭제"
   ]
  },
  {
   "cell_type": "code",
   "execution_count": null,
   "metadata": {},
   "outputs": [],
   "source": [
    "# cur = con.cursor()\n",
    "# cur.execute('DELETE FROM Eagles WHERE back_no=1;')"
   ]
  }
 ],
 "metadata": {
  "kernelspec": {
   "display_name": "Python 3",
   "language": "python",
   "name": "python3"
  },
  "language_info": {
   "codemirror_mode": {
    "name": "ipython",
    "version": 3
   },
   "file_extension": ".py",
   "mimetype": "text/x-python",
   "name": "python",
   "nbconvert_exporter": "python",
   "pygments_lexer": "ipython3",
   "version": "3.7.3"
  }
 },
 "nbformat": 4,
 "nbformat_minor": 2
}
